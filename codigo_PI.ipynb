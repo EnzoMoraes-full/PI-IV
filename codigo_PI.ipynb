{
  "nbformat": 4,
  "nbformat_minor": 0,
  "metadata": {
    "colab": {
      "provenance": []
    },
    "kernelspec": {
      "name": "python3",
      "display_name": "Python 3"
    },
    "language_info": {
      "name": "python"
    }
  },
  "cells": [
    {
      "cell_type": "markdown",
      "source": [
        "## Requeriments"
      ],
      "metadata": {
        "id": "UF2P6fLV8OWB"
      }
    },
    {
      "cell_type": "code",
      "source": [
        "import pandas as pd\n",
        "import numpy as np"
      ],
      "metadata": {
        "id": "pjUUW5jiO3RX"
      },
      "execution_count": 28,
      "outputs": []
    },
    {
      "cell_type": "markdown",
      "source": [
        "## Carga"
      ],
      "metadata": {
        "id": "H9y72LCCR6eN"
      }
    },
    {
      "cell_type": "code",
      "source": [
        "caminho_do_arquivo = '/content/drive/MyDrive/PI IV/PI/bases/SINAN/CHIKBR24.csv'\n",
        "df = pd.read_csv(caminho_do_arquivo, sep=',', encoding='ISO-8859-1', low_memory=False)"
      ],
      "metadata": {
        "id": "dS-Mimv9R_ng"
      },
      "execution_count": 29,
      "outputs": []
    },
    {
      "cell_type": "markdown",
      "source": [
        "## Entendimento dos dados"
      ],
      "metadata": {
        "id": "MGDvu3P0MIDe"
      }
    },
    {
      "cell_type": "code",
      "source": [
        "# Crição da variavel alvo\n",
        "df['desfecho_grave'] = 0\n",
        "df.loc[(df['HOSPITALIZ'] == 1) | (df['EVOLUCAO'] == 2), 'desfecho_grave'] = 1\n",
        "\n",
        "# Definição das variaveis prediticas (features)\n",
        "features_demograficas = [\n",
        "    'NU_IDADE_N', 'CS_SEXO', 'CS_GESTANT', 'CS_RACA'\n",
        "]\n",
        "features_clinicas = [\n",
        "    'FEBRE', 'MIALGIA', 'CEFALEIA', 'EXANTEMA', 'ARTRITE', 'ARTRALGIA'\n",
        "]\n",
        "features_comorbidades = [\n",
        "    'DIABETES', 'HEMATOLOG', 'HEPATOPAT', 'RENAL', 'HIPERTENSA', 'ACIDO_PEPT', 'AUTO_IMUNE'\n",
        "]\n",
        "\n",
        "colunas_selecionadas = features_demograficas + features_clinicas + features_comorbidades + ['desfecho_grave']\n",
        "\n",
        "df_modelo = df[colunas_selecionadas].copy()\n",
        "\n",
        "# Exploracao\n",
        "print(\"\\n\" + \"=\"*50)\n",
        "print(\"VERIFICAÇÃO INICIAL DOS DADOS PARA O MODELO (ainda a)\")\n",
        "print(\"=\"*50)\n",
        "\n",
        "print(\"\\n[VERIFICAÇÃO 1: Balanceamento da Variável-Alvo 'desfecho_grave']\")\n",
        "print(\"0 = Não Grave (Curado, sem hospitalização)\")\n",
        "print(\"1 = Grave (Hospitalizado ou Óbito)\")\n",
        "print(df_modelo['desfecho_grave'].value_counts(dropna=False))\n",
        "print(\"-\"*50)\n",
        "\n",
        "print(\"\\n[VERIFICAÇÃO 2: Contagem de Dados Nulos (NaN) por Coluna]\")\n",
        "print(df_modelo.isnull().sum())\n",
        "print(\"-\"*50)\n",
        "\n",
        "print(\"\\n[VERIFICAÇÃO 3: Tipos de Dados das Colunas Selecionadas]\")\n",
        "df_modelo.info()\n",
        "print(\"-\"*50)\n",
        "\n",
        "print(\"\\n[VERIFICAÇÃO 4: Análise das Colunas Específicas de Dengue]\")\n",
        "colunas_dengue_suspeitas = ['GRAV_PULSO', 'GRAV_CONV', 'GRAV_HEMAT']\n",
        "for coluna in colunas_dengue_suspeitas:\n",
        "    if coluna in df.columns:\n",
        "        contagem_nao_nulos = df[coluna].notna().sum()\n",
        "        print(f\"Coluna '{coluna}' tem {contagem_nao_nulos} valores preenchidos (não nulos).\")\n",
        "    else:\n",
        "        print(f\"Coluna '{coluna}' não encontrada no DataFrame.\")\n",
        "print(\"Se esses números forem muito baixos ou zero, confirma nossa hipótese de que não se aplicam à Chikungunya.\")\n",
        "print(\"=\"*50)"
      ],
      "metadata": {
        "colab": {
          "base_uri": "https://localhost:8080/"
        },
        "id": "M2MzJx5sDQM8",
        "outputId": "2a2a4c25-a356-4bdd-e70a-00fe7a45d108"
      },
      "execution_count": 30,
      "outputs": [
        {
          "output_type": "stream",
          "name": "stdout",
          "text": [
            "\n",
            "==================================================\n",
            "VERIFICAÇÃO INICIAL DOS DADOS PARA O MODELO (ainda a)\n",
            "==================================================\n",
            "\n",
            "[VERIFICAÇÃO 1: Balanceamento da Variável-Alvo 'desfecho_grave']\n",
            "0 = Não Grave (Curado, sem hospitalização)\n",
            "1 = Grave (Hospitalizado ou Óbito)\n",
            "desfecho_grave\n",
            "0    390825\n",
            "1     11983\n",
            "Name: count, dtype: int64\n",
            "--------------------------------------------------\n",
            "\n",
            "[VERIFICAÇÃO 2: Contagem de Dados Nulos (NaN) por Coluna]\n",
            "NU_IDADE_N           0\n",
            "CS_SEXO              2\n",
            "CS_GESTANT          43\n",
            "CS_RACA              1\n",
            "FEBRE             8339\n",
            "MIALGIA           8339\n",
            "CEFALEIA          8339\n",
            "EXANTEMA          8339\n",
            "ARTRITE           8339\n",
            "ARTRALGIA         8339\n",
            "DIABETES          8339\n",
            "HEMATOLOG         8339\n",
            "HEPATOPAT         8339\n",
            "RENAL             8339\n",
            "HIPERTENSA        8339\n",
            "ACIDO_PEPT        8339\n",
            "AUTO_IMUNE        8339\n",
            "desfecho_grave       0\n",
            "dtype: int64\n",
            "--------------------------------------------------\n",
            "\n",
            "[VERIFICAÇÃO 3: Tipos de Dados das Colunas Selecionadas]\n",
            "<class 'pandas.core.frame.DataFrame'>\n",
            "RangeIndex: 402808 entries, 0 to 402807\n",
            "Data columns (total 18 columns):\n",
            " #   Column          Non-Null Count   Dtype  \n",
            "---  ------          --------------   -----  \n",
            " 0   NU_IDADE_N      402808 non-null  int64  \n",
            " 1   CS_SEXO         402806 non-null  object \n",
            " 2   CS_GESTANT      402765 non-null  float64\n",
            " 3   CS_RACA         402807 non-null  float64\n",
            " 4   FEBRE           394469 non-null  float64\n",
            " 5   MIALGIA         394469 non-null  float64\n",
            " 6   CEFALEIA        394469 non-null  float64\n",
            " 7   EXANTEMA        394469 non-null  float64\n",
            " 8   ARTRITE         394469 non-null  float64\n",
            " 9   ARTRALGIA       394469 non-null  float64\n",
            " 10  DIABETES        394469 non-null  float64\n",
            " 11  HEMATOLOG       394469 non-null  float64\n",
            " 12  HEPATOPAT       394469 non-null  float64\n",
            " 13  RENAL           394469 non-null  float64\n",
            " 14  HIPERTENSA      394469 non-null  float64\n",
            " 15  ACIDO_PEPT      394469 non-null  float64\n",
            " 16  AUTO_IMUNE      394469 non-null  float64\n",
            " 17  desfecho_grave  402808 non-null  int64  \n",
            "dtypes: float64(15), int64(2), object(1)\n",
            "memory usage: 55.3+ MB\n",
            "--------------------------------------------------\n",
            "\n",
            "[VERIFICAÇÃO 4: Análise das Colunas Específicas de Dengue]\n",
            "Coluna 'GRAV_PULSO' tem 0 valores preenchidos (não nulos).\n",
            "Coluna 'GRAV_CONV' tem 0 valores preenchidos (não nulos).\n",
            "Coluna 'GRAV_HEMAT' tem 0 valores preenchidos (não nulos).\n",
            "Se esses números forem muito baixos ou zero, confirma nossa hipótese de que não se aplicam à Chikungunya.\n",
            "==================================================\n"
          ]
        }
      ]
    },
    {
      "cell_type": "markdown",
      "source": [
        "## Preparação dos Dados"
      ],
      "metadata": {
        "id": "DIkfypggT8J3"
      }
    },
    {
      "cell_type": "code",
      "source": [
        "df = pd.read_csv(caminho_do_arquivo, sep=',', encoding='ISO-8859-1', low_memory=False)\n",
        "\n",
        "# Crição da variavel alvo\n",
        "df['desfecho_grave'] = 0\n",
        "df.loc[(df['HOSPITALIZ'] == 1) | (df['EVOLUCAO'] == 2), 'desfecho_grave'] = 1\n",
        "\n",
        "# Definição das variaveis prediticas (features)\n",
        "features_demograficas = [\n",
        "    'NU_IDADE_N', 'CS_SEXO', 'CS_GESTANT', 'CS_RACA'\n",
        "]\n",
        "features_clinicas = [\n",
        "    'FEBRE', 'MIALGIA', 'CEFALEIA', 'EXANTEMA', 'ARTRITE', 'ARTRALGIA'\n",
        "]\n",
        "features_comorbidades = [\n",
        "    'DIABETES', 'HEMATOLOG', 'HEPATOPAT', 'RENAL', 'HIPERTENSA', 'ACIDO_PEPT', 'AUTO_IMUNE'\n",
        "]\n",
        "\n",
        "colunas_selecionadas = features_demograficas + features_clinicas + features_comorbidades + ['desfecho_grave']\n",
        "\n",
        "df_modelo = df[colunas_selecionadas].copy()\n",
        "\n",
        "# === Limpeza e Pré-processamento ===\n",
        "\n",
        "print(f\"\\nFormato original do df_modelo: {df_modelo.shape}\")\n",
        "\n",
        "# 1. Tratamento de Dados Faltantes: Remover as linhas com qualquer valor nulo\n",
        "df_modelo.dropna(inplace=True)\n",
        "print(f\"Formato após remover linhas com dados nulos: {df_modelo.shape}\")\n",
        "\n",
        "# 2. Correção dos Tipos de Dados (Dtypes)\n",
        "# Seleciona todas as colunas que são float e as converte para inteiro\n",
        "colunas_float = df_modelo.select_dtypes(include='float64').columns\n",
        "for col in colunas_float:\n",
        "    df_modelo[col] = df_modelo[col].astype(np.int64)\n",
        "print(\"\\nTipos de dados corrigidos para inteiro.\")\n",
        "\n",
        "# 3. Preparação para o Machine Learning (One-Hot Encoding)\n",
        "# Transforma colunas categóricas em colunas numéricas (0s e 1s)\n",
        "colunas_para_encoder = ['CS_SEXO', 'CS_GESTANT', 'CS_RACA', 'FEBRE', 'MIALGIA',\n",
        "                        'CEFALEIA', 'EXANTEMA', 'ARTRITE', 'ARTRALGIA', 'DIABETES',\n",
        "                        'HEMATOLOG', 'HEPATOPAT', 'RENAL', 'HIPERTENSA',\n",
        "                        'ACIDO_PEPT', 'AUTO_IMUNE']\n",
        "\n",
        "df_final = pd.get_dummies(df_modelo, columns=colunas_para_encoder, drop_first=True)\n",
        "print(\"Variáveis categóricas transformadas para o formato do modelo.\")\n",
        "\n",
        "# Verificacao\n",
        "print(\"\\n\" + \"=\"*50)\n",
        "print(\"DATASET FINAL - PRONTO PARA A MODELAGEM\")\n",
        "print(\"=\"*50)\n",
        "\n",
        "print(\"\\nCinco primeiras linhas do DataFrame final:\")\n",
        "print(df_final.head())\n",
        "\n",
        "print(\"\\n\\nInformações do DataFrame final:\")\n",
        "df_final.info()"
      ],
      "metadata": {
        "colab": {
          "base_uri": "https://localhost:8080/"
        },
        "id": "pdFWPz_WLckj",
        "outputId": "ca1d6258-e748-4c3d-84ab-e9d7447348a2"
      },
      "execution_count": 31,
      "outputs": [
        {
          "output_type": "stream",
          "name": "stdout",
          "text": [
            "\n",
            "Formato original do df_modelo: (402808, 18)\n",
            "Formato após remover linhas com dados nulos: (394424, 18)\n",
            "\n",
            "Tipos de dados corrigidos para inteiro.\n",
            "Variáveis categóricas transformadas para o formato do modelo.\n",
            "\n",
            "==================================================\n",
            "DATASET FINAL - PRONTO PARA A MODELAGEM\n",
            "==================================================\n",
            "\n",
            "Cinco primeiras linhas do DataFrame final:\n",
            "   NU_IDADE_N  desfecho_grave  CS_SEXO_I  CS_SEXO_M  CS_GESTANT_2  \\\n",
            "0        4037               1      False       True         False   \n",
            "1        4037               0      False      False         False   \n",
            "2        4029               0      False       True         False   \n",
            "3        4056               0      False      False         False   \n",
            "4        4058               0      False      False         False   \n",
            "\n",
            "   CS_GESTANT_3  CS_GESTANT_4  CS_GESTANT_5  CS_GESTANT_6  CS_GESTANT_9  ...  \\\n",
            "0         False         False         False          True         False  ...   \n",
            "1         False         False         False          True         False  ...   \n",
            "2         False         False         False          True         False  ...   \n",
            "3         False         False         False          True         False  ...   \n",
            "4         False         False          True         False         False  ...   \n",
            "\n",
            "   EXANTEMA_2  ARTRITE_2  ARTRALGIA_2  DIABETES_2  HEMATOLOG_2  HEPATOPAT_2  \\\n",
            "0        True       True         True        True         True         True   \n",
            "1        True       True         True        True         True         True   \n",
            "2        True      False        False        True         True         True   \n",
            "3        True       True         True        True         True         True   \n",
            "4       False      False        False        True         True         True   \n",
            "\n",
            "   RENAL_2  HIPERTENSA_2  ACIDO_PEPT_2  AUTO_IMUNE_2  \n",
            "0     True          True          True          True  \n",
            "1     True          True          True          True  \n",
            "2     True          True          True          True  \n",
            "3     True          True          True          True  \n",
            "4    False         False          True         False  \n",
            "\n",
            "[5 rows x 28 columns]\n",
            "\n",
            "\n",
            "Informações do DataFrame final:\n",
            "<class 'pandas.core.frame.DataFrame'>\n",
            "Index: 394424 entries, 0 to 402807\n",
            "Data columns (total 28 columns):\n",
            " #   Column          Non-Null Count   Dtype\n",
            "---  ------          --------------   -----\n",
            " 0   NU_IDADE_N      394424 non-null  int64\n",
            " 1   desfecho_grave  394424 non-null  int64\n",
            " 2   CS_SEXO_I       394424 non-null  bool \n",
            " 3   CS_SEXO_M       394424 non-null  bool \n",
            " 4   CS_GESTANT_2    394424 non-null  bool \n",
            " 5   CS_GESTANT_3    394424 non-null  bool \n",
            " 6   CS_GESTANT_4    394424 non-null  bool \n",
            " 7   CS_GESTANT_5    394424 non-null  bool \n",
            " 8   CS_GESTANT_6    394424 non-null  bool \n",
            " 9   CS_GESTANT_9    394424 non-null  bool \n",
            " 10  CS_RACA_2       394424 non-null  bool \n",
            " 11  CS_RACA_3       394424 non-null  bool \n",
            " 12  CS_RACA_4       394424 non-null  bool \n",
            " 13  CS_RACA_5       394424 non-null  bool \n",
            " 14  CS_RACA_9       394424 non-null  bool \n",
            " 15  FEBRE_2         394424 non-null  bool \n",
            " 16  MIALGIA_2       394424 non-null  bool \n",
            " 17  CEFALEIA_2      394424 non-null  bool \n",
            " 18  EXANTEMA_2      394424 non-null  bool \n",
            " 19  ARTRITE_2       394424 non-null  bool \n",
            " 20  ARTRALGIA_2     394424 non-null  bool \n",
            " 21  DIABETES_2      394424 non-null  bool \n",
            " 22  HEMATOLOG_2     394424 non-null  bool \n",
            " 23  HEPATOPAT_2     394424 non-null  bool \n",
            " 24  RENAL_2         394424 non-null  bool \n",
            " 25  HIPERTENSA_2    394424 non-null  bool \n",
            " 26  ACIDO_PEPT_2    394424 non-null  bool \n",
            " 27  AUTO_IMUNE_2    394424 non-null  bool \n",
            "dtypes: bool(26), int64(2)\n",
            "memory usage: 18.8 MB\n"
          ]
        }
      ]
    }
  ]
}